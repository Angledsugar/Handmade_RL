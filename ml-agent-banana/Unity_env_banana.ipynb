{
 "cells": [
  {
   "cell_type": "markdown",
   "metadata": {},
   "source": [
    "# Handmade RL - Banana"
   ]
  },
  {
   "cell_type": "markdown",
   "metadata": {},
   "source": [
    "Unity ml - agent의 banana 환경을 불러와 random하게 action 을 선택 \n"
   ]
  },
  {
   "cell_type": "markdown",
   "metadata": {},
   "source": [
    "노란색 바나나를 획득하면 reward +1 , 파란색 바나나를 획득하면 -1의 penalty를 받는다. \n",
    "\n",
    "agent의 목표는 파란색 바나나를 피해서 노란색 바나나를 얻는 것이다. \n",
    "\n",
    "\n",
    "\n",
    "##### action: \n",
    "\n",
    "0 - 앞으로 전진\n",
    "\n",
    "1 - 뒤로 후진\n",
    "\n",
    "2 - 왼쪽\n",
    "\n",
    "3 - 오른쪽\n",
    "\n",
    "##### state : \n",
    "37 dimensions and contains the agent's velocity"
   ]
  },
  {
   "cell_type": "code",
   "execution_count": null,
   "metadata": {},
   "outputs": [],
   "source": []
  },
  {
   "cell_type": "code",
   "execution_count": 27,
   "metadata": {},
   "outputs": [],
   "source": [
    "from unityagents import UnityEnvironment\n",
    "import numpy as np\n",
    "import matplotlib.pyplot as plt\n",
    "%matplotlib inline\n"
   ]
  },
  {
   "cell_type": "markdown",
   "metadata": {},
   "source": [
    "Unity Environment 함수로 환경이 있는 경로를 설정해준다"
   ]
  },
  {
   "cell_type": "code",
   "execution_count": 8,
   "metadata": {
    "scrolled": false
   },
   "outputs": [
    {
     "name": "stderr",
     "output_type": "stream",
     "text": [
      "INFO:unityagents:\n",
      "'Academy' started successfully!\n",
      "Unity Academy name: Academy\n",
      "        Number of Brains: 1\n",
      "        Number of External Brains : 1\n",
      "        Lesson number : 0\n",
      "        Reset Parameters :\n",
      "\t\t\n",
      "Unity brain name: BananaBrain\n",
      "        Number of Visual Observations (per agent): 0\n",
      "        Vector Observation space type: continuous\n",
      "        Vector Observation space size (per agent): 37\n",
      "        Number of stacked Vector Observation: 1\n",
      "        Vector Action space type: discrete\n",
      "        Vector Action space size (per agent): 4\n",
      "        Vector Action descriptions: , , , \n"
     ]
    }
   ],
   "source": [
    "env = UnityEnvironment(file_name=\"/Users/wonseokjung/Dropbox/unity-ml/ml-agents-master/Environment/Banana.app\")"
   ]
  },
  {
   "cell_type": "code",
   "execution_count": 16,
   "metadata": {},
   "outputs": [
    {
     "name": "stdout",
     "output_type": "stream",
     "text": [
      "1. brain 이름은 env.brain_name 사용하여 받는다. BananaBrain\n",
      "2. brain 정보 : Unity brain name: BananaBrain\n",
      "        Number of Visual Observations (per agent): 0\n",
      "        Vector Observation space type: continuous\n",
      "        Vector Observation space size (per agent): 37\n",
      "        Number of stacked Vector Observation: 1\n",
      "        Vector Action space type: discrete\n",
      "        Vector Action space size (per agent): 4\n",
      "        Vector Action descriptions: , , , \n"
     ]
    }
   ],
   "source": [
    "# brain의 정보를 받는다. \n",
    "brain_name = env.brain_names[0]\n",
    "\n",
    "print(\"1. brain 이름은 env.brain_name 사용하여 받는다.\",brain_name)\n",
    "\n",
    "#\"그렇게 받은 이름을 env.brains 함수를 사용하여 brain으로 지정한다\"\n",
    "brain = env.brains[brain_name]\n",
    "\n",
    "print(\"2. brain 정보 :\", brain)\n",
    "      "
   ]
  },
  {
   "cell_type": "code",
   "execution_count": 10,
   "metadata": {
    "scrolled": true
   },
   "outputs": [
    {
     "name": "stdout",
     "output_type": "stream",
     "text": [
      "Number of agents: 1\n",
      "Number of actions: 4\n",
      "States look like: [1.         0.         0.         0.         0.84408134 0.\n",
      " 0.         1.         0.         0.0748472  0.         1.\n",
      " 0.         0.         0.25755    1.         0.         0.\n",
      " 0.         0.74177343 0.         1.         0.         0.\n",
      " 0.25854847 0.         0.         1.         0.         0.09355672\n",
      " 0.         1.         0.         0.         0.31969345 0.\n",
      " 0.        ]\n",
      "States have length: 37\n"
     ]
    }
   ],
   "source": [
    "# 환경을 \n",
    "env_info = env.reset(train_mode=True)[brain_name]\n",
    "\n",
    "# number of agents in the environment\n",
    "print('Number of agents:', len(env_info.agents))\n",
    "\n",
    "# number of actions\n",
    "\n",
    "print('Number of actions:', action_size)\n",
    "\n",
    "# examine the state space \n",
    "state = env_info.vector_observations[0]\n",
    "print('States look like:', state)\n",
    "state_size = len(state)\n",
    "print('States have length:', state_size)"
   ]
  },
  {
   "cell_type": "code",
   "execution_count": 24,
   "metadata": {
    "scrolled": true
   },
   "outputs": [
    {
     "name": "stdout",
     "output_type": "stream",
     "text": [
      "Score: 1.0\n"
     ]
    }
   ],
   "source": [
    "\n",
    "#action size \n",
    "action_size = brain.vector_action_space_size\n",
    "\n",
    "#환경을 초기화 한다. \n",
    "env_info = env.reset(train_mode=False)[brain_name] \n",
    "\n",
    "#현재 state를 vecotr observation을 통해 받는다. \n",
    "\n",
    "state = env_info.vector_observations[0]           \n",
    "\n",
    "#초기 점수\n",
    "\n",
    "\n",
    "score = 0\n",
    "\n",
    "for i in range(100):\n",
    "    #action 선택 \n",
    "    action = np.random.randint(action_size)        \n",
    "    #env.step 통해 \n",
    "    env_info = env.step(action)[brain_name]        # send the action to the environment\n",
    "    # ml-agent는 gym과 다르게 reward, next state를 따로 가져와야 한다. \n",
    "    \n",
    "    \n",
    "    #다음 state정보\n",
    "    next_state = env_info.vector_observations[0]  \n",
    "    #리워드\n",
    "    reward = env_info.rewards[0]   \n",
    "    #done 정보\n",
    "    done = env_info.local_done[0]                  \n",
    "    #reward  총합\n",
    "    \n",
    "    score += reward                               \n",
    "    state = next_state                             \n",
    "    if done:                                      \n",
    "        break\n",
    "    \n",
    "print(\"Score: {}\".format(score))"
   ]
  },
  {
   "cell_type": "markdown",
   "metadata": {},
   "source": [
    "<img src=\"https://www.dropbox.com/s/kkvj0ieh0x82h5f/Screenshot%202018-07-16%2007.01.38.png?raw=1\">"
   ]
  },
  {
   "cell_type": "code",
   "execution_count": 25,
   "metadata": {},
   "outputs": [],
   "source": [
    "env.close()"
   ]
  }
 ],
 "metadata": {
  "kernelspec": {
   "display_name": "Python 3",
   "language": "python",
   "name": "python3"
  },
  "language_info": {
   "codemirror_mode": {
    "name": "ipython",
    "version": 3
   },
   "file_extension": ".py",
   "mimetype": "text/x-python",
   "name": "python",
   "nbconvert_exporter": "python",
   "pygments_lexer": "ipython3",
   "version": "3.6.1"
  }
 },
 "nbformat": 4,
 "nbformat_minor": 2
}
